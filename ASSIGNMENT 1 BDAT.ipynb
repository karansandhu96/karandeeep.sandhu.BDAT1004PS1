{
 "cells": [
  {
   "cell_type": "markdown",
   "id": "cdcbfd3b",
   "metadata": {},
   "source": [
    "# Problem Set 1\n",
    "\n"
   ]
  },
  {
   "cell_type": "markdown",
   "id": "b193493a",
   "metadata": {},
   "source": [
    "What data type is each of the following (evaluate where necessary)?\n",
    "5\n",
    "5.0\n",
    "5 > 1\n",
    "'5'\n",
    "5 * 2\n",
    "'5' * 2\n",
    "'5' + '2'\n",
    "5 / 2\n",
    "5 % 2\n",
    "{5, 2, 1}\n",
    "5 == 3\n",
    "Pi (the number)\n"
   ]
  },
  {
   "cell_type": "code",
   "execution_count": 1,
   "id": "d940ddbb",
   "metadata": {},
   "outputs": [
    {
     "name": "stdout",
     "output_type": "stream",
     "text": [
      "<class 'int'>\n",
      "<class 'float'>\n",
      "<class 'bool'>\n",
      "<class 'str'>\n",
      "<class 'int'>\n",
      "<class 'str'>\n",
      "<class 'str'>\n",
      "<class 'float'>\n",
      "<class 'int'>\n",
      "<class 'set'>\n",
      "<class 'bool'>\n",
      "<class 'float'>\n"
     ]
    }
   ],
   "source": [
    "a = 5\n",
    "b = 5.0\n",
    "c = 5 > 1\n",
    "d = '5'\n",
    "e = 5 * 2\n",
    "f = '5' * 2\n",
    "g = '5' + '2'\n",
    "h = 5 / 2\n",
    "i = 5 % 2\n",
    "j = {5, 2, 1}\n",
    "k = 5 == 3\n",
    "l = 3.141\n",
    "\n",
    "print(type(a))\n",
    "print(type(b))\n",
    "print(type(c))\n",
    "print(type(d))\n",
    "print(type(e))\n",
    "print(type(f))\n",
    "print(type(g))\n",
    "print(type(h))\n",
    "print(type(i))\n",
    "print(type(j))\n",
    "print(type(k))\n",
    "print(type(l))"
   ]
  },
  {
   "cell_type": "markdown",
   "id": "9e0a233d",
   "metadata": {},
   "source": [
    "Question 2\n",
    "Write (and evaluate) python expressions that answer these questions:\n",
    "a. How many letters are there in 'Supercalifragilisticexpialidocious'?\n",
    "b. Does 'Supercalifragilisticexpialidocious' contain 'ice' as a substring?\n",
    "c. Which of the following words is the longest:\n",
    "Supercalifragilisticexpialidocious, Honorificabilitudinitatibus, or\n",
    "Bababadalgharaghtakamminarronnkonn?\n",
    "d. Which composer comes first in the dictionary: 'Berlioz', 'Borodin', 'Brian',\n",
    "'Bartok', 'Bellini', 'Buxtehude', 'Bernstein'. Which one comes last?"
   ]
  },
  {
   "cell_type": "code",
   "execution_count": 20,
   "id": "70a4c2ce",
   "metadata": {},
   "outputs": [
    {
     "name": "stdout",
     "output_type": "stream",
     "text": [
      "34\n",
      "True\n",
      "Supercalifragilisticexpialidocious\n",
      "Bartok Buxtehude\n"
     ]
    }
   ],
   "source": [
    "#a\n",
    "a = 'Supercalifragilisticexpialidocious'\n",
    "length = len(a)\n",
    "print(length)\n",
    "\n",
    "#b\n",
    "ss = 'ice'\n",
    "b = ss in a\n",
    "print (b)\n",
    "\n",
    "#c\n",
    "c = ['Supercalifragilisticexpialidocious', 'Honorificabilitudinitatibus', 'Bababadalgharaghtakamminarronnkonn']\n",
    "longest = max(c, key=len)\n",
    "print(longest)\n",
    "\n",
    "#d\n",
    "d = ['Berlioz', 'Borodin', 'Brian', 'Bartok', 'Bellini', 'Buxtehude', 'Bernstein']\n",
    "first, last = min(d), max(d)\n",
    "print(first,last)\n",
    "\n",
    "\n"
   ]
  },
  {
   "cell_type": "markdown",
   "id": "7d099ef0",
   "metadata": {},
   "source": [
    "Question 3\n",
    "Implement function triangleArea(a,b,c) that takes as input the lengths of the 3\n",
    "sides of a triangle and returns the area of the triangle. By Heron's formula, the area\n",
    "of a triangle with side lengths a, b, and c is\n",
    "s(s - a)(s -b)(s -c)\n",
    ", where\n",
    "s = (a+b+c)/2.\n",
    ">>> triangleArea(2,2,2)\n",
    "1.7320508075688772\n"
   ]
  },
  {
   "cell_type": "code",
   "execution_count": 5,
   "id": "9a4ed8e9",
   "metadata": {},
   "outputs": [
    {
     "name": "stdout",
     "output_type": "stream",
     "text": [
      "Length of side a: 2\n",
      "Length of side b: 2\n",
      "Length of side c: 2\n",
      "Area of the triangle is: 1.7320508075688772\n"
     ]
    }
   ],
   "source": [
    "a = float(input(\"Length of side a: \"))\n",
    "b = float(input(\"Length of side b: \"))\n",
    "c = float(input(\"Length of side c: \"))\n",
    "\n",
    "def Tarea(a, b, c):\n",
    "    s = (a + b + c) / 2\n",
    "    a = (s * (s - a) * (s - b) * (s - c)) ** 0.5\n",
    "    return a\n",
    "\n",
    "a = Tarea(a, b, c)\n",
    "print(\"Area of the triangle is:\", a)"
   ]
  },
  {
   "cell_type": "markdown",
   "id": "379e4924",
   "metadata": {},
   "source": [
    "Question 4\n",
    "Write a program in python to separate odd and even integers in separate arrays. Go\n",
    "to the editor\n",
    "Test Data :\n",
    "Input the number of elements to be stored in the array :5\n",
    "Input 5 elements in the array :\n",
    "element - 0 : 25\n",
    "element - 1 : 47\n",
    "element - 2 : 42\n",
    "element - 3 : 56\n",
    "element - 4 : 32\n",
    "Expected Output:\n",
    "The Even elements are:\n",
    "42 56 32\n",
    "The Odd elements are :\n",
    "25 47"
   ]
  },
  {
   "cell_type": "code",
   "execution_count": null,
   "id": "09f093bc",
   "metadata": {
    "scrolled": true
   },
   "outputs": [],
   "source": [
    "def separater():\n",
    "    numbers = int(input(\"Input the elements: \"))\n",
    "\n",
    "    odd_numbers = []\n",
    "    even_numbers = []\n",
    "    \n",
    "    for i in range(numbers):\n",
    "        element = int(input(f\"Input element - {i} : \"))\n",
    "        if element % 2 == 0:\n",
    "            even_numbers.append(element)\n",
    "        else:\n",
    "            odd_numbers.append(element)\n",
    "\n",
    "    print(\"The Even numbers are:\", end=\" \")\n",
    "    print(*even_numbers)\n",
    "    print(\"The Odd numbers are:\", end=\" \")\n",
    "    print(*odd_numbers)\n",
    "\n",
    "separater()\n"
   ]
  },
  {
   "cell_type": "code",
   "execution_count": null,
   "id": "f2393ef5",
   "metadata": {},
   "outputs": [],
   "source": [
    "Question 5\n",
    "a. Write a function inside(x,y,x1,y1,x2,y2) that returns True or False\n",
    "depending on whether the point (x,y) lies in the rectangle with lower left\n",
    "corner (x1,y1) and upper right corner (x2,y2).\n",
    ">>> inside(1,1,0,0,2,3)\n",
    "True\n",
    ">>> inside(-1,-1,0,0,2,3)\n",
    "False\n",
    "b. Use function inside() from part a. to write an expression that tests whether\n",
    "the point (1,1) lies in both of the following rectangles: one with lower left\n",
    "corner (0.3, 0.5) and upper right corner (1.1, 0.7) and the other with lower\n",
    "left corner (0.5, 0.2) and upper right corner (1.1, 2). "
   ]
  },
  {
   "cell_type": "code",
   "execution_count": null,
   "id": "9bca6536",
   "metadata": {},
   "outputs": [],
   "source": [
    "def inside(x, y, x1, y1, x2, y2):\n",
    "    if x1 <= x <= x2 and y1 <= y <= y2:\n",
    "        return True\n",
    "    else:\n",
    "        return False\n",
    "\n",
    "result1 = inside(1, 1, 0.3, 0.5, 1.1, 0.7)\n",
    "result2 = inside(1, 1, 0.5, 0.2, 1.1, 2)\n",
    "\n",
    "if result1 and result2:\n",
    "    print(\"True\")\n",
    "else:\n",
    "    print(\"False\")"
   ]
  },
  {
   "cell_type": "markdown",
   "id": "33624097",
   "metadata": {},
   "source": [
    "Question 6\n",
    "16. You can turn a word into pig-Latin using the following two rules (simplified):\n",
    "• If the word starts with a consonant, move that letter to the end and append\n",
    "'ay'. For example, 'happy' becomes 'appyhay' and 'pencil' becomes 'encilpay'.\n",
    "• If the word starts with a vowel, simply append 'way' to the end of the word.\n",
    "For example, 'enter' becomes 'enterway' and 'other' becomes 'otherway' . For\n",
    "our purposes, there are 5 vowels: a, e, i, o, u (so we count y as a consonant).\n",
    "Write a function pig() that takes a word (i.e., a string) as input and returns its pigLatin form. Your function should still work if the input word contains upper case\n",
    "characters. Your output should always be lower case however.\n",
    ">>> pig('happy')\n",
    "'appyhay'\n",
    ">>> pig('Enter')\n",
    "'enterway' "
   ]
  },
  {
   "cell_type": "code",
   "execution_count": null,
   "id": "444ea648",
   "metadata": {},
   "outputs": [],
   "source": [
    "def pig():\n",
    "    v = ['a', 'e', 'i', 'o', 'u']\n",
    "    piglatin = input(\"Enter a word: \").lower()  \n",
    "\n",
    "    if piglatin[0] in v:  \n",
    "        return piglatin + 'way'\n",
    "    else:  \n",
    "        return piglatin[1:] + piglatin[0] + 'ay'\n",
    "\n",
    "result = pig()\n",
    "print(result)\n",
    "\n"
   ]
  },
  {
   "cell_type": "markdown",
   "id": "0012dd81",
   "metadata": {},
   "source": [
    "Question 7\n",
    "File bloodtype1.txt records blood-types of patients (A, B, AB, O or OO) at a clinic.\n",
    "Write a function bldcount() that reads the file with name name and reports (i.e.,\n",
    "prints) how many patients there are in each bloodtype.\n",
    ">>> bldcount('bloodtype.txt')\n",
    "There are 10 patients of blood type A.\n",
    "There is one patient of blood type B.\n",
    "There are 10 patients of blood type AB.\n",
    "There are 12 patients of blood type O.\n",
    "There are no patients of blood type OO.\n"
   ]
  },
  {
   "cell_type": "code",
   "execution_count": 7,
   "id": "ce2dc8c6",
   "metadata": {},
   "outputs": [
    {
     "name": "stdout",
     "output_type": "stream",
     "text": [
      "There are 15 patients of blood type A.\n",
      "There is one patient of blood type B.\n",
      "There are 13 patients of blood type AB.\n",
      "There are 15 patients of blood type O.\n",
      "There are 0 patients of blood type OO.\n"
     ]
    }
   ],
   "source": [
    "def bldcount(blood):\n",
    "    blood_types = ['A', 'B', 'AB', 'O', 'OO']\n",
    "    counts = [0, 0, 0, 0, 0]\n",
    "    \n",
    "    with open(blood, 'r') as file:\n",
    "        blood_data = file.read()\n",
    "        \n",
    "    for line in blood_data.splitlines():\n",
    "        blood_type = line.strip()  \n",
    "\n",
    "        if blood_type in blood_types:\n",
    "            index = blood_types.index(blood_type)\n",
    "            counts[index] += 1\n",
    "\n",
    "    for i in range(len(blood_types)):\n",
    "        if counts[i] == 1:\n",
    "            print(f\"There is one patient of blood type {blood_types[i]}.\")\n",
    "        else:\n",
    "            print(f\"There are {counts[i]} patients of blood type {blood_types[i]}.\")\n",
    "\n",
    "\n",
    "bldcount('bloodtype1')"
   ]
  },
  {
   "cell_type": "markdown",
   "id": "26cb4261",
   "metadata": {},
   "source": [
    "Question 8\n",
    "Write a function curconv() that takes as input:\n",
    "1. a currency represented using a string (e.g., 'JPY' for the Japanese Yen or\n",
    "'EUR' for the Euro)\n",
    "2. an amount\n",
    "and then converts and returns the amount in US dollars.\n",
    ">>> curconv('EUR', 100)\n",
    "122.96544\n",
    ">>> curconv('JPY', 100)\n",
    "1.241401\n",
    "The currency rates you will need are stored in file currencies.txt:\n",
    "AUD 1.0345157 Australian Dollar\n",
    "CHF 1.0237414 Swiss Franc\n",
    "CNY 0.1550176 Chinese Yuan\n",
    "DKK 0.1651442 Danish Krone\n",
    "EUR 1.2296544 Euro\n",
    "GBP 1.5550989 British Pound\n",
    "HKD 0.1270207 Hong Kong Dollar\n",
    "INR 0.0177643 Indian Rupee\n",
    "JPY 0.01241401 Japanese Yen\n",
    "MXN 0.0751848 Mexican Peso\n",
    "MYR 0.3145411 Malaysian Ringgit\n",
    "NOK 0.1677063 Norwegian Krone\n",
    "NZD 0.8003591 New Zealand Dollar\n",
    "PHP 0.0233234 Philippine Peso\n",
    "SEK 0.148269 Swedish Krona\n",
    "SGD 0.788871 Singapore Dollar\n",
    "THB 0.0313789 Thai Baht\n"
   ]
  },
  {
   "cell_type": "code",
   "execution_count": 8,
   "id": "1baf3fed",
   "metadata": {},
   "outputs": [
    {
     "name": "stdout",
     "output_type": "stream",
     "text": [
      "122.96544\n",
      "1.241401\n",
      "2.3323400000000003\n"
     ]
    }
   ],
   "source": [
    "def curconv(currency, amt):\n",
    "    with open('currencies.txt', 'r') as file:\n",
    "        for line in file:\n",
    "            if currency in line:\n",
    "                parts = line.split()\n",
    "                value = float(parts[1])\n",
    "                return value * amt\n",
    "\n",
    "    return 'Currency not found'\n",
    "\n",
    "print(curconv('EUR', 100))\n",
    "print(curconv('JPY', 100))\n",
    "print(curconv('PHP', 100))"
   ]
  },
  {
   "cell_type": "code",
   "execution_count": null,
   "id": "4503733c",
   "metadata": {},
   "outputs": [],
   "source": [
    "Question 9\n",
    "Each of the following will cause an exception (an error). Identify what type of\n",
    "exception each will cause.\n",
    "Trying to add incompatible variables, as in\n",
    "adding 6 + ‘a’\n",
    "Referring to the 12th item of a list that has only 10\n",
    "items\n",
    "Using a value that is out of range for a function’s\n",
    "input, such as calling math.sqrt(-1.0)\n",
    "Using an undeclared variable, such as print(x)\n",
    "when x has not been defined\n",
    "Trying to open a file that does not exist, such as\n",
    "mistyping the file name or looking in the wrong\n",
    "directory. "
   ]
  },
  {
   "cell_type": "markdown",
   "id": "f2914781",
   "metadata": {},
   "source": [
    "1.Type Error\n",
    "2.Index Error\n",
    "3.Value Error\n",
    "4.Name Error\n",
    "5.File Not Found Error"
   ]
  },
  {
   "cell_type": "code",
   "execution_count": null,
   "id": "e9093cdc",
   "metadata": {},
   "outputs": [],
   "source": [
    "Question 10\n",
    "Encryption is the process of hiding the meaning of a text by substituting letters in the\n",
    "message with other letters, according to some system. If the process is successful, no\n",
    "one but the intended recipient can understand the encrypted message. Cryptanalysis\n",
    "refers to attempts to undo the encryption, even if some details of the encryption are\n",
    "unknown (for example, if an encrypted message has been intercepted). The first step\n",
    "of cryptanalysis is often to build up a table of letter frequencies in the encrypted text.\n",
    "Assume that the string letters is already defined as\n",
    "'abcdefghijklmnopqrstuvwxyz'. Write a function called frequencies()\n",
    "that takes a string as its only parameter, and returns a list of integers, showing the\n",
    "number of times each character appears in the text. Your function may ignore any\n",
    "characters that are not in letters.\n",
    ">>> frequencies('The quick red fox got bored and went home.')\n",
    "[1, 1, 1, 3, 5, 1, 1, 2, 1, 0, 1, 0, 1, 2, 4, 0, 1, 2, 0, 2,\n",
    "1, 0, 1, 1, 0, 0]\n",
    ">>> frequencies('apple')"
   ]
  },
  {
   "cell_type": "code",
   "execution_count": 9,
   "id": "9e59f34f",
   "metadata": {},
   "outputs": [
    {
     "name": "stdout",
     "output_type": "stream",
     "text": [
      "[1, 1, 1, 3, 5, 1, 1, 2, 1, 0, 1, 0, 1, 2, 4, 0, 1, 2, 0, 3, 1, 0, 1, 1, 0, 0]\n",
      "[1, 0, 0, 0, 1, 0, 0, 0, 0, 0, 0, 1, 0, 0, 0, 2, 0, 0, 0, 0, 0, 0, 0, 0, 0, 0]\n"
     ]
    }
   ],
   "source": [
    "def frequencies(code):\n",
    "    alphas = 'abcdefghijklmnopqrstuvwxyz'\n",
    "    counts = [0] * 26 \n",
    "    \n",
    "    code = code.lower()\n",
    "    for char in code:\n",
    "        if char in alphas:\n",
    "            index = alphas.index(char)  \n",
    "            counts[index] += 1  \n",
    "    \n",
    "    return counts\n",
    "\n",
    "print(frequencies('The quick red fox got bored and went home.'))\n",
    "print(frequencies('apple'))\n"
   ]
  },
  {
   "cell_type": "code",
   "execution_count": null,
   "id": "67f4e9fa",
   "metadata": {},
   "outputs": [],
   "source": []
  }
 ],
 "metadata": {
  "kernelspec": {
   "display_name": "Python 3 (ipykernel)",
   "language": "python",
   "name": "python3"
  },
  "language_info": {
   "codemirror_mode": {
    "name": "ipython",
    "version": 3
   },
   "file_extension": ".py",
   "mimetype": "text/x-python",
   "name": "python",
   "nbconvert_exporter": "python",
   "pygments_lexer": "ipython3",
   "version": "3.10.9"
  }
 },
 "nbformat": 4,
 "nbformat_minor": 5
}
